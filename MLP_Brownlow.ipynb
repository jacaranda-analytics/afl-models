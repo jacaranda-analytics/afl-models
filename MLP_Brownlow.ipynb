{
 "cells": [
  {
   "cell_type": "markdown",
   "metadata": {
    "colab": {
     "base_uri": "https://localhost:8080/"
    },
    "id": "0_ADfr0fI-0o",
    "outputId": "fcece37b-b2b3-4c4d-9411-1811c8a11cf4"
   },
   "source": [
    "# Brownlow ML Sandbox\n",
    "\n",
    "This notebook contains a minimal working MLP to predict the 2021 Brownlow vote. "
   ]
  },
  {
   "cell_type": "markdown",
   "metadata": {},
   "source": [
    "## Imports"
   ]
  },
  {
   "cell_type": "code",
   "execution_count": null,
   "metadata": {},
   "outputs": [],
   "source": [
    "import pandas as pd\n",
    "import os\n",
    "import numpy as np\n",
    "import matplotlib.pyplot as plt\n",
    "import pandas as pd\n",
    "import torch.nn as nn\n",
    "import torch\n",
    "import torch.optim as optim\n",
    "from torch.nn.modules.loss import MSELoss\n",
    "import glob"
   ]
  },
  {
   "cell_type": "code",
   "execution_count": null,
   "metadata": {},
   "outputs": [],
   "source": [
    "torch.manual_seed(123)\n",
    "os.chdir(\"/home/gabriel/Projects/sports-analytics/AFL/res/afl_table_data/\")\n",
    "os.getcwd()"
   ]
  },
  {
   "cell_type": "code",
   "execution_count": null,
   "metadata": {},
   "outputs": [],
   "source": [
    "for f in glob.glob(\"*2025*.csv\"):\n",
    "    df = pd.read_csv(f, low_memory=False)\n",
    "    out = \"AFL-Tables_\" + f.replace(\".csv\", \".parquet\")\n",
    "    import pathlib\n",
    "\n",
    "    print(pathlib.Path(out).resolve())\n",
    "    df.to_parquet(out)\n",
    "    print(f)"
   ]
  },
  {
   "cell_type": "markdown",
   "metadata": {},
   "source": [
    "## Column Name class"
   ]
  },
  {
   "cell_type": "code",
   "execution_count": null,
   "metadata": {},
   "outputs": [],
   "source": [
    "class LongFormColumnNames:\n",
    "    INDEX = \"index\"\n",
    "    PLAYER = \"player\"\n",
    "    TEAM = \"team\"\n",
    "    ROUND = \"round\"\n",
    "    OPPENENT = \"opponents\"\n",
    "    STAT = \"stat\"\n",
    "    VALUE = \"value\"\n",
    "    YEAR = \"year\""
   ]
  },
  {
   "cell_type": "code",
   "execution_count": null,
   "metadata": {},
   "outputs": [],
   "source": [
    "files = glob.glob(\"AFL-Tables_game-by-game-stats_*.parquet\")"
   ]
  },
  {
   "cell_type": "code",
   "execution_count": null,
   "metadata": {},
   "outputs": [],
   "source": [
    "files = glob.glob(\"AFL-Tables_game-by-game-stats_*.parquet\")\n",
    "years = [f.split(\"_\")[-1].split(\".\")[0] for f in files]\n",
    "data = []\n",
    "for i, f in enumerate(files):\n",
    "    df = pd.read_parquet(f, engine=\"fastparquet\")\n",
    "    df[LongFormColumnNames.YEAR] = years[i]\n",
    "    data.append(df)\n",
    "df = pd.concat(data, ignore_index=True)\n",
    "df.head()"
   ]
  },
  {
   "cell_type": "code",
   "execution_count": null,
   "metadata": {},
   "outputs": [],
   "source": [
    "df = df.loc[\n",
    "    (df[LongFormColumnNames.VALUE] != \"Off\") & (df[LongFormColumnNames.VALUE] != \"On\")\n",
    "]\n",
    "\n",
    "NaN_key = {\"NA\": np.nan}\n",
    "df[LongFormColumnNames.VALUE] = df[LongFormColumnNames.VALUE].replace(NaN_key)\n",
    "\n",
    "df[LongFormColumnNames.VALUE] = df[LongFormColumnNames.VALUE].astype(np.float32)"
   ]
  },
  {
   "cell_type": "code",
   "execution_count": null,
   "metadata": {
    "colab": {
     "base_uri": "https://localhost:8080/"
    },
    "id": "LRi_kQXdP9Ig",
    "outputId": "3e6d1206-64c2-4028-e146-4e555f34f93c"
   },
   "outputs": [],
   "source": [
    "df = df.pivot(\n",
    "    index=[\n",
    "        LongFormColumnNames.PLAYER,\n",
    "        LongFormColumnNames.TEAM,\n",
    "        LongFormColumnNames.ROUND,\n",
    "        LongFormColumnNames.OPPENENT,\n",
    "        LongFormColumnNames.YEAR,\n",
    "    ],\n",
    "    columns=LongFormColumnNames.STAT,\n",
    "    values=LongFormColumnNames.VALUE,\n",
    ").reset_index()\n",
    "\n",
    "df = df.drop(columns=\"subs\")"
   ]
  },
  {
   "cell_type": "code",
   "execution_count": null,
   "metadata": {},
   "outputs": [],
   "source": [
    "df = df.astype({\"year\": np.int32})\n",
    "df_2022 = df[(df[\"round\"] < 23) & (df[\"year\"] == 2025)]\n",
    "df = df[(df[\"round\"] < 23) & (df[\"year\"] >= 2000) & (df[\"year\"] < 2025)]"
   ]
  },
  {
   "cell_type": "code",
   "execution_count": null,
   "metadata": {},
   "outputs": [],
   "source": [
    "df = df.fillna(0)\n",
    "\n",
    "\n",
    "xlabels = [\n",
    "    \"team\",\n",
    "    \"opponents\",\n",
    "    \"%_played\",\n",
    "    \"behinds\",\n",
    "    \"bounces\",\n",
    "    \"clangers\",\n",
    "    \"clearances\",\n",
    "    \"contested_marks\",\n",
    "    \"contested_possessions\",\n",
    "    \"disposals\",\n",
    "    \"frees\",\n",
    "    \"frees_against\",\n",
    "    \"goal_assists\",\n",
    "    \"goals\",\n",
    "    \"handballs\",\n",
    "    \"hit_outs\",\n",
    "    \"inside_50s\",\n",
    "    \"kicks\",\n",
    "    \"marks\",\n",
    "    \"marks_inside_50\",\n",
    "    \"one_percenters\",\n",
    "    \"rebounds\",\n",
    "    \"tackles\",\n",
    "    \"uncontested_possessions\",\n",
    "]\n",
    "\n",
    "y_labels = \"brownlow_votes\""
   ]
  },
  {
   "cell_type": "code",
   "execution_count": null,
   "metadata": {
    "colab": {
     "base_uri": "https://localhost:8080/"
    },
    "id": "E7kMRGl-PJ9N",
    "outputId": "499a3789-8372-481e-b7ca-5defbe04f137"
   },
   "outputs": [],
   "source": [
    "X = df.drop(columns=[\"player\", \"team\", \"opponents\", \"round\", \"year\", \"brownlow_votes\"])\n",
    "Y = df[\"brownlow_votes\"]"
   ]
  },
  {
   "cell_type": "code",
   "execution_count": null,
   "metadata": {
    "colab": {
     "base_uri": "https://localhost:8080/"
    },
    "id": "0zA0epGrjam_",
    "outputId": "27c5fc91-d0a4-4f54-c1fe-b7a887ec4782"
   },
   "outputs": [],
   "source": [
    "X"
   ]
  },
  {
   "cell_type": "code",
   "execution_count": null,
   "metadata": {
    "id": "-94JiLK7kZai"
   },
   "outputs": [],
   "source": [
    "X, Y = torch.tensor(X.to_numpy(), dtype=torch.float), torch.tensor(\n",
    "    Y.to_numpy(), dtype=torch.float\n",
    ")\n",
    "# Y = Y.type(torch.LongTensor)"
   ]
  },
  {
   "cell_type": "code",
   "execution_count": null,
   "metadata": {
    "id": "5CqA_rcLj5KH"
   },
   "outputs": [],
   "source": [
    "# Build a class for the neural network\n",
    "class Net(nn.Module):\n",
    "    def __init__(self):\n",
    "        super(Net, self).__init__()\n",
    "\n",
    "        self.hidden1 = nn.Sequential(nn.Linear(X.shape[1], 100), nn.ReLU())\n",
    "\n",
    "        self.hidden2 = nn.Sequential(nn.Linear(100, 50), nn.ReLU())\n",
    "\n",
    "        self.output = nn.Linear(50, 1)\n",
    "\n",
    "    def forward(self, x):\n",
    "        x = self.hidden1(x)\n",
    "\n",
    "        x = self.hidden2(x)\n",
    "\n",
    "        x = self.output(x)\n",
    "\n",
    "        return x"
   ]
  },
  {
   "cell_type": "code",
   "execution_count": null,
   "metadata": {
    "colab": {
     "base_uri": "https://localhost:8080/"
    },
    "id": "0kSecVr7kykA",
    "outputId": "e8acf612-1495-429d-d1ec-3eb2821e9508"
   },
   "outputs": [],
   "source": [
    "MLP_loss = []\n",
    "\n",
    "\n",
    "def train(\n",
    "    X=X,\n",
    "    Y=Y,\n",
    "    loss_function=nn.MSELoss(),\n",
    "    epoch_num=100,\n",
    "    batch_size=100,\n",
    "    lr=0.0001,\n",
    "):\n",
    "\n",
    "    network = Net()\n",
    "    network.train()\n",
    "\n",
    "    data_tuple = [[X[i], Y[i]] for i in range(len(X))]  # accuracy\n",
    "\n",
    "    batch = torch.utils.data.DataLoader(data_tuple, batch_size=batch_size, shuffle=True)\n",
    "\n",
    "    optimizer = optim.Adam(network.parameters(), lr=lr, betas=(0.9, 0.999))\n",
    "\n",
    "    for epoch in range(epoch_num):\n",
    "\n",
    "        if not epoch % 10:\n",
    "            print(\"Iteration: \", epoch, \"Completion: \", (epoch) / epoch_num)\n",
    "\n",
    "        running_loss = 0\n",
    "\n",
    "        for batch_shuffle in batch:\n",
    "\n",
    "            x, y = batch_shuffle\n",
    "            y = y.unsqueeze(1)\n",
    "            # print(x.shape)\n",
    "\n",
    "            # Give loss\n",
    "            optimizer.zero_grad()\n",
    "            loss = loss_function(network(x), y)\n",
    "            loss.backward()\n",
    "            optimizer.step()\n",
    "\n",
    "            running_loss += loss.item()\n",
    "\n",
    "        MLP_loss.append(running_loss / batch_size)\n",
    "\n",
    "    return network\n",
    "\n",
    "\n",
    "network = train()"
   ]
  },
  {
   "cell_type": "code",
   "execution_count": null,
   "metadata": {},
   "outputs": [],
   "source": [
    "torch.save(network.state_dict(), \"model_state_2025.pt\")"
   ]
  },
  {
   "cell_type": "code",
   "execution_count": null,
   "metadata": {},
   "outputs": [],
   "source": [
    "# Load the model\n",
    "network = Net()\n",
    "\n",
    "state_dict = torch.load(\"model_state_2025.pt\")\n",
    "\n",
    "# Load in the state dictionary\n",
    "network.load_state_dict(state_dict)"
   ]
  },
  {
   "cell_type": "code",
   "execution_count": null,
   "metadata": {
    "colab": {
     "base_uri": "https://localhost:8080/",
     "height": 264
    },
    "id": "bOy5gnZZcQ70",
    "outputId": "c27e75f7-2fbc-41e2-bae4-8c4dedb1cdde"
   },
   "outputs": [],
   "source": [
    "plt.plot(np.arange(0, len(MLP_loss)), MLP_loss, color=\"red\")\n",
    "plt.tick_params(\n",
    "    axis=\"x\",  # changes apply to the x-axis\n",
    "    which=\"both\",  # both major and minor ticks are affected\n",
    "    bottom=False,  # ticks along the bottom edge are off\n",
    "    top=False,  # ticks along the top edge are off\n",
    "    labelbottom=False,\n",
    ")  # labels along the bottom edge are off\n",
    "plt.title(\"MLP loss\")\n",
    "plt.show()"
   ]
  },
  {
   "cell_type": "code",
   "execution_count": null,
   "metadata": {
    "colab": {
     "base_uri": "https://localhost:8080/"
    },
    "id": "oT9DKMComDqm",
    "outputId": "43805dc7-a53e-40c0-b6cc-cff873e4604b"
   },
   "outputs": [],
   "source": [
    "pred = network(X).detach().numpy()"
   ]
  },
  {
   "cell_type": "code",
   "execution_count": null,
   "metadata": {},
   "outputs": [],
   "source": [
    "len(pred)"
   ]
  },
  {
   "cell_type": "code",
   "execution_count": null,
   "metadata": {},
   "outputs": [],
   "source": [
    "df_2022 = df_2022.fillna(0)\n",
    "X_test = df_2022[xlabels]\n",
    "X_test = df_2022.drop(\n",
    "    columns=[\"player\", \"team\", \"opponents\", \"round\", \"year\", \"brownlow_votes\"]\n",
    ")\n",
    "X_test = X_test.astype(np.float32)\n",
    "X_test = torch.tensor(X_test.to_numpy(), dtype=torch.float)"
   ]
  },
  {
   "cell_type": "code",
   "execution_count": null,
   "metadata": {
    "colab": {
     "base_uri": "https://localhost:8080/"
    },
    "id": "JzkloAfsFQIJ",
    "outputId": "61175692-cccd-49a1-8552-45a4856474fa"
   },
   "outputs": [],
   "source": [
    "# X_test = torch.tensor(X_test, dtype=torch.float)\n",
    "network.eval()\n",
    "pred_2022 = network(X_test).detach().numpy()"
   ]
  },
  {
   "cell_type": "code",
   "execution_count": null,
   "metadata": {},
   "outputs": [],
   "source": [
    "pred_2022 = [i[0] for i in pred_2022]"
   ]
  },
  {
   "cell_type": "code",
   "execution_count": null,
   "metadata": {},
   "outputs": [],
   "source": [
    "df_2022[\"game_weight\"] = pred_2022"
   ]
  },
  {
   "cell_type": "code",
   "execution_count": null,
   "metadata": {},
   "outputs": [],
   "source": [
    "key_team = {\n",
    "    \"adelaide\": \"AD\",\n",
    "    \"brisbaneb\": \"BB\",\n",
    "    \"brisbanel\": \"BL\",\n",
    "    \"carlton\": \"CA\",\n",
    "    \"collingwood\": \"CW\",\n",
    "    \"essendon\": \"ES\",\n",
    "    \"fitzroy\": \"FI\",\n",
    "    \"fremantle\": \"FR\",\n",
    "    \"geelong\": \"GE\",\n",
    "    \"goldcoast\": \"GC\",\n",
    "    \"gws\": \"GW\",\n",
    "    \"hawthorn\": \"HW\",\n",
    "    \"melbourne\": \"ME\",\n",
    "    \"kangaroos\": \"NM\",\n",
    "    \"padelaide\": \"PA\",\n",
    "    \"richmond\": \"RI\",\n",
    "    \"stkilda\": \"SK\",\n",
    "    \"swans\": \"SY\",\n",
    "    \"westcoast\": \"WC\",\n",
    "    \"bullldogs\": \"WB\",\n",
    "}\n",
    "# key_team = {value:key for key, value in key_team.items()}\n",
    "df_2022[\"team\"] = df_2022[\"team\"].replace(key_team)"
   ]
  },
  {
   "cell_type": "code",
   "execution_count": null,
   "metadata": {},
   "outputs": [],
   "source": [
    "list_sets = []\n",
    "\n",
    "for row in df_2022[[\"team\", \"opponents\", \"round\"]].iterrows():\n",
    "\n",
    "    team, opponent, r = row[1][\"team\"], row[1][\"opponents\"], str(row[1][\"round\"])\n",
    "    ls = [team, opponent, r]\n",
    "    ls.sort()\n",
    "\n",
    "    list_sets.append(\"_\".join(ls))"
   ]
  },
  {
   "cell_type": "code",
   "execution_count": null,
   "metadata": {},
   "outputs": [],
   "source": [
    "df_2022[\"game_id\"] = list_sets"
   ]
  },
  {
   "cell_type": "code",
   "execution_count": null,
   "metadata": {},
   "outputs": [],
   "source": [
    "games = []\n",
    "for game in df_2022.groupby(\"game_id\"):\n",
    "    game_df = game[1].nlargest(n=3, columns=\"game_weight\")\n",
    "    game_df[\"votes\"] = [3, 2, 1]\n",
    "    games.append(game_df)\n",
    "\n",
    "game_df = pd.concat(games, axis=0)\n",
    "game_df.shape"
   ]
  },
  {
   "cell_type": "code",
   "execution_count": null,
   "metadata": {},
   "outputs": [],
   "source": [
    "game_df[[\"player\", \"votes\"]].groupby(\"player\").sum().sort_values(\n",
    "    \"votes\", ascending=False\n",
    ").head(30)"
   ]
  },
  {
   "cell_type": "code",
   "execution_count": null,
   "metadata": {
    "colab": {
     "base_uri": "https://localhost:8080/"
    },
    "id": "s06KGf2pF2bP",
    "outputId": "0d2a8091-2009-409c-ff1c-e73721960097"
   },
   "outputs": [],
   "source": []
  },
  {
   "cell_type": "code",
   "execution_count": null,
   "metadata": {},
   "outputs": [],
   "source": []
  },
  {
   "cell_type": "code",
   "execution_count": null,
   "metadata": {},
   "outputs": [],
   "source": []
  }
 ],
 "metadata": {
  "colab": {
   "collapsed_sections": [],
   "name": "MLP_Brownlow.ipynb",
   "provenance": []
  },
  "kernelspec": {
   "display_name": "afl-models-m3hnWdOa-py3.12",
   "language": "python",
   "name": "python3"
  },
  "language_info": {
   "codemirror_mode": {
    "name": "ipython",
    "version": 3
   },
   "file_extension": ".py",
   "mimetype": "text/x-python",
   "name": "python",
   "nbconvert_exporter": "python",
   "pygments_lexer": "ipython3",
   "version": "3.12.3"
  }
 },
 "nbformat": 4,
 "nbformat_minor": 2
}
